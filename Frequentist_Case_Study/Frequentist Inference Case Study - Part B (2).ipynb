{
  "cells": [
    {
      "cell_type": "markdown",
      "metadata": {
        "id": "S4-oP3l8_-c-"
      },
      "source": [
        "# Frequentist Inference Case Study - Part B"
      ]
    },
    {
      "cell_type": "markdown",
      "metadata": {
        "id": "ydeTV5GZ_-dB"
      },
      "source": [
        "## Learning objectives"
      ]
    },
    {
      "cell_type": "markdown",
      "metadata": {
        "id": "yAKp0tAV_-dB"
      },
      "source": [
        "Welcome to Part B of the Frequentist inference case study! The purpose of this case study is to help you apply the concepts associated with Frequentist inference in Python. In particular, you'll practice writing Python code to apply the following statistical concepts:\n",
        "* the _z_-statistic\n",
        "* the _t_-statistic\n",
        "* the difference and relationship between the two\n",
        "* the Central Limit Theorem, including its assumptions and consequences\n",
        "* how to estimate the population mean and standard deviation from a sample\n",
        "* the concept of a sampling distribution of a test statistic, particularly for the mean\n",
        "* how to combine these concepts to calculate a confidence interval"
      ]
    },
    {
      "cell_type": "markdown",
      "metadata": {
        "id": "zIWkcd5s_-dC"
      },
      "source": [
        "In the previous notebook, we used only data from a known normal distribution. **You'll now tackle real data, rather than simulated data, and answer some relevant real-world business problems using the data.**"
      ]
    },
    {
      "cell_type": "markdown",
      "metadata": {
        "id": "M-RKApSw_-dC"
      },
      "source": [
        "## Hospital medical charges"
      ]
    },
    {
      "cell_type": "markdown",
      "metadata": {
        "id": "r7gwvn87_-dC"
      },
      "source": [
        "Imagine that a hospital has hired you as their data scientist. An administrator is working on the hospital's business operations plan and needs you to help them answer some business questions.\n",
        "\n",
        "In this assignment notebook, you're going to use frequentist statistical inference on a data sample to answer the questions:\n",
        "* has the hospital's revenue stream fallen below a key threshold?\n",
        "* are patients with insurance really charged different amounts than those without?\n",
        "\n",
        "Answering that last question with a frequentist approach makes some assumptions, and requires some knowledge, about the two groups."
      ]
    },
    {
      "cell_type": "markdown",
      "metadata": {
        "id": "BoFA8NZ1_-dD"
      },
      "source": [
        "We are going to use some data on medical charges obtained from [Kaggle](https://www.kaggle.com/easonlai/sample-insurance-claim-prediction-dataset).\n",
        "\n",
        "For the purposes of this exercise, assume the observations are the result of random sampling from our single hospital. Recall that in the previous assignment, we introduced the Central Limit Theorem (CLT), and its consequence that the distributions of sample statistics approach a normal distribution as $n$ increases. The amazing thing about this is that it applies to the sampling distributions of statistics that have been calculated from even highly non-normal distributions of data! Recall, also, that hypothesis testing is very much based on making inferences about such sample statistics. You're going to rely heavily on the CLT to apply frequentist (parametric) tests to answer the questions in this notebook."
      ]
    },
    {
      "cell_type": "code",
      "execution_count": 1,
      "metadata": {
        "id": "7whXkbaE_-dE"
      },
      "outputs": [],
      "source": [
        "import pandas as pd\n",
        "import numpy as np\n",
        "import matplotlib.pyplot as plt\n",
        "from scipy.stats import t\n",
        "from numpy.random import seed\n",
        "medical = pd.read_csv('data/insurance2.csv')"
      ]
    },
    {
      "cell_type": "code",
      "execution_count": 2,
      "metadata": {
        "colab": {
          "base_uri": "https://localhost:8080/"
        },
        "id": "cFd_ZgCv_-dF",
        "outputId": "9b90b446-7a7a-408b-97cd-acddcb41d925"
      },
      "outputs": [
        {
          "output_type": "execute_result",
          "data": {
            "text/plain": [
              "(1338, 8)"
            ]
          },
          "metadata": {},
          "execution_count": 2
        }
      ],
      "source": [
        "medical.shape"
      ]
    },
    {
      "cell_type": "code",
      "execution_count": 3,
      "metadata": {
        "colab": {
          "base_uri": "https://localhost:8080/",
          "height": 206
        },
        "id": "yOZEuHw1_-dF",
        "outputId": "38018b5d-6f39-4395-8423-78cb4073925b"
      },
      "outputs": [
        {
          "output_type": "execute_result",
          "data": {
            "text/plain": [
              "   age  sex     bmi  children  smoker  region      charges  insuranceclaim\n",
              "0   19    0  27.900         0       1       3  16884.92400               1\n",
              "1   18    1  33.770         1       0       2   1725.55230               1\n",
              "2   28    1  33.000         3       0       2   4449.46200               0\n",
              "3   33    1  22.705         0       0       1  21984.47061               0\n",
              "4   32    1  28.880         0       0       1   3866.85520               1"
            ],
            "text/html": [
              "\n",
              "\n",
              "  <div id=\"df-5af3e361-6b6a-4acf-b2e2-0b5a5de17638\">\n",
              "    <div class=\"colab-df-container\">\n",
              "      <div>\n",
              "<style scoped>\n",
              "    .dataframe tbody tr th:only-of-type {\n",
              "        vertical-align: middle;\n",
              "    }\n",
              "\n",
              "    .dataframe tbody tr th {\n",
              "        vertical-align: top;\n",
              "    }\n",
              "\n",
              "    .dataframe thead th {\n",
              "        text-align: right;\n",
              "    }\n",
              "</style>\n",
              "<table border=\"1\" class=\"dataframe\">\n",
              "  <thead>\n",
              "    <tr style=\"text-align: right;\">\n",
              "      <th></th>\n",
              "      <th>age</th>\n",
              "      <th>sex</th>\n",
              "      <th>bmi</th>\n",
              "      <th>children</th>\n",
              "      <th>smoker</th>\n",
              "      <th>region</th>\n",
              "      <th>charges</th>\n",
              "      <th>insuranceclaim</th>\n",
              "    </tr>\n",
              "  </thead>\n",
              "  <tbody>\n",
              "    <tr>\n",
              "      <th>0</th>\n",
              "      <td>19</td>\n",
              "      <td>0</td>\n",
              "      <td>27.900</td>\n",
              "      <td>0</td>\n",
              "      <td>1</td>\n",
              "      <td>3</td>\n",
              "      <td>16884.92400</td>\n",
              "      <td>1</td>\n",
              "    </tr>\n",
              "    <tr>\n",
              "      <th>1</th>\n",
              "      <td>18</td>\n",
              "      <td>1</td>\n",
              "      <td>33.770</td>\n",
              "      <td>1</td>\n",
              "      <td>0</td>\n",
              "      <td>2</td>\n",
              "      <td>1725.55230</td>\n",
              "      <td>1</td>\n",
              "    </tr>\n",
              "    <tr>\n",
              "      <th>2</th>\n",
              "      <td>28</td>\n",
              "      <td>1</td>\n",
              "      <td>33.000</td>\n",
              "      <td>3</td>\n",
              "      <td>0</td>\n",
              "      <td>2</td>\n",
              "      <td>4449.46200</td>\n",
              "      <td>0</td>\n",
              "    </tr>\n",
              "    <tr>\n",
              "      <th>3</th>\n",
              "      <td>33</td>\n",
              "      <td>1</td>\n",
              "      <td>22.705</td>\n",
              "      <td>0</td>\n",
              "      <td>0</td>\n",
              "      <td>1</td>\n",
              "      <td>21984.47061</td>\n",
              "      <td>0</td>\n",
              "    </tr>\n",
              "    <tr>\n",
              "      <th>4</th>\n",
              "      <td>32</td>\n",
              "      <td>1</td>\n",
              "      <td>28.880</td>\n",
              "      <td>0</td>\n",
              "      <td>0</td>\n",
              "      <td>1</td>\n",
              "      <td>3866.85520</td>\n",
              "      <td>1</td>\n",
              "    </tr>\n",
              "  </tbody>\n",
              "</table>\n",
              "</div>\n",
              "      <button class=\"colab-df-convert\" onclick=\"convertToInteractive('df-5af3e361-6b6a-4acf-b2e2-0b5a5de17638')\"\n",
              "              title=\"Convert this dataframe to an interactive table.\"\n",
              "              style=\"display:none;\">\n",
              "\n",
              "  <svg xmlns=\"http://www.w3.org/2000/svg\" height=\"24px\"viewBox=\"0 0 24 24\"\n",
              "       width=\"24px\">\n",
              "    <path d=\"M0 0h24v24H0V0z\" fill=\"none\"/>\n",
              "    <path d=\"M18.56 5.44l.94 2.06.94-2.06 2.06-.94-2.06-.94-.94-2.06-.94 2.06-2.06.94zm-11 1L8.5 8.5l.94-2.06 2.06-.94-2.06-.94L8.5 2.5l-.94 2.06-2.06.94zm10 10l.94 2.06.94-2.06 2.06-.94-2.06-.94-.94-2.06-.94 2.06-2.06.94z\"/><path d=\"M17.41 7.96l-1.37-1.37c-.4-.4-.92-.59-1.43-.59-.52 0-1.04.2-1.43.59L10.3 9.45l-7.72 7.72c-.78.78-.78 2.05 0 2.83L4 21.41c.39.39.9.59 1.41.59.51 0 1.02-.2 1.41-.59l7.78-7.78 2.81-2.81c.8-.78.8-2.07 0-2.86zM5.41 20L4 18.59l7.72-7.72 1.47 1.35L5.41 20z\"/>\n",
              "  </svg>\n",
              "      </button>\n",
              "\n",
              "\n",
              "\n",
              "    <div id=\"df-d58c7105-802b-4855-ba50-36c7a3bdd130\">\n",
              "      <button class=\"colab-df-quickchart\" onclick=\"quickchart('df-d58c7105-802b-4855-ba50-36c7a3bdd130')\"\n",
              "              title=\"Suggest charts.\"\n",
              "              style=\"display:none;\">\n",
              "\n",
              "<svg xmlns=\"http://www.w3.org/2000/svg\" height=\"24px\"viewBox=\"0 0 24 24\"\n",
              "     width=\"24px\">\n",
              "    <g>\n",
              "        <path d=\"M19 3H5c-1.1 0-2 .9-2 2v14c0 1.1.9 2 2 2h14c1.1 0 2-.9 2-2V5c0-1.1-.9-2-2-2zM9 17H7v-7h2v7zm4 0h-2V7h2v10zm4 0h-2v-4h2v4z\"/>\n",
              "    </g>\n",
              "</svg>\n",
              "      </button>\n",
              "    </div>\n",
              "\n",
              "<style>\n",
              "  .colab-df-quickchart {\n",
              "    background-color: #E8F0FE;\n",
              "    border: none;\n",
              "    border-radius: 50%;\n",
              "    cursor: pointer;\n",
              "    display: none;\n",
              "    fill: #1967D2;\n",
              "    height: 32px;\n",
              "    padding: 0 0 0 0;\n",
              "    width: 32px;\n",
              "  }\n",
              "\n",
              "  .colab-df-quickchart:hover {\n",
              "    background-color: #E2EBFA;\n",
              "    box-shadow: 0px 1px 2px rgba(60, 64, 67, 0.3), 0px 1px 3px 1px rgba(60, 64, 67, 0.15);\n",
              "    fill: #174EA6;\n",
              "  }\n",
              "\n",
              "  [theme=dark] .colab-df-quickchart {\n",
              "    background-color: #3B4455;\n",
              "    fill: #D2E3FC;\n",
              "  }\n",
              "\n",
              "  [theme=dark] .colab-df-quickchart:hover {\n",
              "    background-color: #434B5C;\n",
              "    box-shadow: 0px 1px 3px 1px rgba(0, 0, 0, 0.15);\n",
              "    filter: drop-shadow(0px 1px 2px rgba(0, 0, 0, 0.3));\n",
              "    fill: #FFFFFF;\n",
              "  }\n",
              "</style>\n",
              "\n",
              "    <script>\n",
              "      async function quickchart(key) {\n",
              "        const containerElement = document.querySelector('#' + key);\n",
              "        const charts = await google.colab.kernel.invokeFunction(\n",
              "            'suggestCharts', [key], {});\n",
              "      }\n",
              "    </script>\n",
              "\n",
              "      <script>\n",
              "\n",
              "function displayQuickchartButton(domScope) {\n",
              "  let quickchartButtonEl =\n",
              "    domScope.querySelector('#df-d58c7105-802b-4855-ba50-36c7a3bdd130 button.colab-df-quickchart');\n",
              "  quickchartButtonEl.style.display =\n",
              "    google.colab.kernel.accessAllowed ? 'block' : 'none';\n",
              "}\n",
              "\n",
              "        displayQuickchartButton(document);\n",
              "      </script>\n",
              "      <style>\n",
              "    .colab-df-container {\n",
              "      display:flex;\n",
              "      flex-wrap:wrap;\n",
              "      gap: 12px;\n",
              "    }\n",
              "\n",
              "    .colab-df-convert {\n",
              "      background-color: #E8F0FE;\n",
              "      border: none;\n",
              "      border-radius: 50%;\n",
              "      cursor: pointer;\n",
              "      display: none;\n",
              "      fill: #1967D2;\n",
              "      height: 32px;\n",
              "      padding: 0 0 0 0;\n",
              "      width: 32px;\n",
              "    }\n",
              "\n",
              "    .colab-df-convert:hover {\n",
              "      background-color: #E2EBFA;\n",
              "      box-shadow: 0px 1px 2px rgba(60, 64, 67, 0.3), 0px 1px 3px 1px rgba(60, 64, 67, 0.15);\n",
              "      fill: #174EA6;\n",
              "    }\n",
              "\n",
              "    [theme=dark] .colab-df-convert {\n",
              "      background-color: #3B4455;\n",
              "      fill: #D2E3FC;\n",
              "    }\n",
              "\n",
              "    [theme=dark] .colab-df-convert:hover {\n",
              "      background-color: #434B5C;\n",
              "      box-shadow: 0px 1px 3px 1px rgba(0, 0, 0, 0.15);\n",
              "      filter: drop-shadow(0px 1px 2px rgba(0, 0, 0, 0.3));\n",
              "      fill: #FFFFFF;\n",
              "    }\n",
              "  </style>\n",
              "\n",
              "      <script>\n",
              "        const buttonEl =\n",
              "          document.querySelector('#df-5af3e361-6b6a-4acf-b2e2-0b5a5de17638 button.colab-df-convert');\n",
              "        buttonEl.style.display =\n",
              "          google.colab.kernel.accessAllowed ? 'block' : 'none';\n",
              "\n",
              "        async function convertToInteractive(key) {\n",
              "          const element = document.querySelector('#df-5af3e361-6b6a-4acf-b2e2-0b5a5de17638');\n",
              "          const dataTable =\n",
              "            await google.colab.kernel.invokeFunction('convertToInteractive',\n",
              "                                                     [key], {});\n",
              "          if (!dataTable) return;\n",
              "\n",
              "          const docLinkHtml = 'Like what you see? Visit the ' +\n",
              "            '<a target=\"_blank\" href=https://colab.research.google.com/notebooks/data_table.ipynb>data table notebook</a>'\n",
              "            + ' to learn more about interactive tables.';\n",
              "          element.innerHTML = '';\n",
              "          dataTable['output_type'] = 'display_data';\n",
              "          await google.colab.output.renderOutput(dataTable, element);\n",
              "          const docLink = document.createElement('div');\n",
              "          docLink.innerHTML = docLinkHtml;\n",
              "          element.appendChild(docLink);\n",
              "        }\n",
              "      </script>\n",
              "    </div>\n",
              "  </div>\n"
            ]
          },
          "metadata": {},
          "execution_count": 3
        }
      ],
      "source": [
        "medical.head()"
      ]
    },
    {
      "cell_type": "markdown",
      "metadata": {
        "id": "63zCObar_-dG"
      },
      "source": [
        "__Q1:__ Plot the histogram of charges and calculate the mean and standard deviation. Comment on the appropriateness of these statistics for the data."
      ]
    },
    {
      "cell_type": "markdown",
      "metadata": {
        "id": "mVCuoq21_-dG"
      },
      "source": [
        "__A:__\n",
        "\n",
        "As can be seen below, the data is highly positively skewed so the mean and standard deviation will be somewhat flawed for this dataset."
      ]
    },
    {
      "cell_type": "code",
      "execution_count": 8,
      "metadata": {
        "colab": {
          "base_uri": "https://localhost:8080/",
          "height": 452
        },
        "id": "1LcIuu3H_-dG",
        "outputId": "3678794b-05e9-4bc0-cb6c-427d292e9bc3"
      },
      "outputs": [
        {
          "output_type": "display_data",
          "data": {
            "text/plain": [
              "<Figure size 640x480 with 1 Axes>"
            ],
            "image/png": "[encoded data removed]"
          },
          "metadata": {}
        }
      ],
      "source": [
        "medical.hist('charges');"
      ]
    },
    {
      "cell_type": "code",
      "execution_count": 4,
      "metadata": {
        "colab": {
          "base_uri": "https://localhost:8080/"
        },
        "id": "Z-gVTr0R_-dG",
        "outputId": "77404f73-5da8-49b6-a62c-d1acb0f3947d"
      },
      "outputs": [
        {
          "output_type": "execute_result",
          "data": {
            "text/plain": [
              "13270.422265141257"
            ]
          },
          "metadata": {},
          "execution_count": 4
        }
      ],
      "source": [
        "# mean\n",
        "\n",
        "medical['charges'].mean()"
      ]
    },
    {
      "cell_type": "code",
      "source": [
        "# standard deviation\n",
        "# assuming degrees of freedom is 1\n",
        "\n",
        "medical['charges'].std(ddof=1)"
      ],
      "metadata": {
        "colab": {
          "base_uri": "https://localhost:8080/"
        },
        "id": "EuPqkk7uAlQ-",
        "outputId": "925b3e3e-a1cf-4b1b-84c8-cab5fc862901"
      },
      "execution_count": 5,
      "outputs": [
        {
          "output_type": "execute_result",
          "data": {
            "text/plain": [
              "12110.011236694001"
            ]
          },
          "metadata": {},
          "execution_count": 5
        }
      ]
    },
    {
      "cell_type": "markdown",
      "metadata": {
        "id": "bfSyrmLf_-dG"
      },
      "source": [
        "__Q2:__ The administrator is concerned that the actual average charge has fallen below 12,000, threatening the hospital's operational model. On the assumption that these data represent a random sample of charges, how would you justify that these data allow you to answer that question? And what would be the most appropriate frequentist test, of the ones discussed so far, to apply?"
      ]
    },
    {
      "cell_type": "markdown",
      "metadata": {
        "id": "oZG5l7_8_-dH"
      },
      "source": [
        "__A:__\n",
        "\n",
        "If the data are a random sample then we can reliably use the statistical tests we've learned about to make predictions about the data.\n",
        "A one sided t test seems most applicable."
      ]
    },
    {
      "cell_type": "markdown",
      "metadata": {
        "id": "jR7m8-F3_-dH"
      },
      "source": [
        "__Q3:__ Given the nature of the administrator's concern, what is the appropriate confidence interval in this case? A ***one-sided*** or ***two-sided*** interval? (Refresh your understanding of this concept on p. 399 of the *AoS*). Calculate the critical value and the relevant 95% confidence interval for the mean, and comment on whether the administrator should be concerned."
      ]
    },
    {
      "cell_type": "markdown",
      "metadata": {
        "id": "nFPPhHmh_-dH"
      },
      "source": [
        "__A:__\n",
        "\n",
        "I guess 95% confidence interval will work and a one-sided interval.\n",
        "\n",
        "- So the null hypothesis is that the mean charge is greater than or equal to 12,000\n",
        "  - $H_0: μ \\geq 12,000$\n",
        "- And the alternative is the average is below 12,000\n",
        "  - $H_1: μ < 12,000$\n",
        "\n",
        "\n",
        "*Results*\n",
        "\n",
        "- As you can see below the administrator shouldn't be concerned as with the one sided test we couldn't reject the null with a p value of 0.99 and the 12,000 falls outside of the 95% confidence interval."
      ]
    },
    {
      "cell_type": "code",
      "execution_count": 26,
      "metadata": {
        "id": "QKM885a5_-dH"
      },
      "outputs": [],
      "source": [
        "# mean\n",
        "u = medical['charges'].mean()\n",
        "\n",
        "# standard error\n",
        "se = medical['charges'].std() / len(medical['charges']) ** 0.5"
      ]
    },
    {
      "cell_type": "code",
      "source": [
        "# degrees of freedom\n",
        "\n",
        "df = len(medical['charges']) - 1\n",
        "df"
      ],
      "metadata": {
        "colab": {
          "base_uri": "https://localhost:8080/"
        },
        "id": "vspMPYMVG4r8",
        "outputId": "6ab7b3eb-a882-4d27-9433-0cd932d53ea7"
      },
      "execution_count": 27,
      "outputs": [
        {
          "output_type": "execute_result",
          "data": {
            "text/plain": [
              "1337"
            ]
          },
          "metadata": {},
          "execution_count": 27
        }
      ]
    },
    {
      "cell_type": "code",
      "execution_count": 30,
      "metadata": {
        "colab": {
          "base_uri": "https://localhost:8080/"
        },
        "id": "xFQ9MFG1_-dH",
        "outputId": "b04b0fbd-f0f3-498a-faf6-95e9d76b7673"
      },
      "outputs": [
        {
          "output_type": "execute_result",
          "data": {
            "text/plain": [
              "3.8373517196585323"
            ]
          },
          "metadata": {},
          "execution_count": 30
        }
      ],
      "source": [
        "# critical t value\n",
        "t_val = (u - 12000) / se\n",
        "t_val"
      ]
    },
    {
      "cell_type": "code",
      "source": [
        "# p value\n",
        "\n",
        "t.cdf(t_val, df)"
      ],
      "metadata": {
        "colab": {
          "base_uri": "https://localhost:8080/"
        },
        "id": "BS4U3968JC15",
        "outputId": "d53d619f-b5b0-4e96-e308-58ba3c972aeb"
      },
      "execution_count": 31,
      "outputs": [
        {
          "output_type": "execute_result",
          "data": {
            "text/plain": [
              "0.9999349141739535"
            ]
          },
          "metadata": {},
          "execution_count": 31
        }
      ]
    },
    {
      "cell_type": "markdown",
      "source": [
        "- So based on this we can't reject the null.\n",
        "\n",
        "- Now I'll calculate a 95% confidence interval"
      ],
      "metadata": {
        "id": "-uwaUj8kLKGU"
      }
    },
    {
      "cell_type": "code",
      "execution_count": 34,
      "metadata": {
        "colab": {
          "base_uri": "https://localhost:8080/"
        },
        "id": "bxTYVxes_-dH",
        "outputId": "cd07f3ca-2e44-4959-e289-878ad42400f6"
      },
      "outputs": [
        {
          "output_type": "execute_result",
          "data": {
            "text/plain": [
              "649.4682309486122"
            ]
          },
          "metadata": {},
          "execution_count": 34
        }
      ],
      "source": [
        "# alpha level\n",
        "a = 1 - (1 - 0.95)/2\n",
        "\n",
        "# t_val\n",
        "\n",
        "t_val = t.ppf(a, df)\n",
        "\n",
        "# margin of error\n",
        "\n",
        "me = t_val * se\n",
        "me"
      ]
    },
    {
      "cell_type": "code",
      "source": [
        "u - me, u + me"
      ],
      "metadata": {
        "colab": {
          "base_uri": "https://localhost:8080/"
        },
        "id": "M2qIt11ZLtZy",
        "outputId": "36bfc1d3-2885-4d39-a9c6-6d2d3210006a"
      },
      "execution_count": 35,
      "outputs": [
        {
          "output_type": "execute_result",
          "data": {
            "text/plain": [
              "(12620.954034192644, 13919.890496089869)"
            ]
          },
          "metadata": {},
          "execution_count": 35
        }
      ]
    },
    {
      "cell_type": "markdown",
      "metadata": {
        "id": "8W2C1mVJ_-dH"
      },
      "source": [
        "The administrator then wants to know whether people with insurance really are charged a different amount to those without.\n",
        "\n",
        "__Q4:__ State the null and alternative hypothesis here. Use the _t_-test for the difference between means, where the pooled standard deviation of the two groups is given by:\n",
        "\\begin{equation}\n",
        "s_p = \\sqrt{\\frac{(n_0 - 1)s^2_0 + (n_1 - 1)s^2_1}{n_0 + n_1 - 2}}\n",
        "\\end{equation}\n",
        "\n",
        "and the *t*-test statistic is then given by:\n",
        "\n",
        "\\begin{equation}\n",
        "t = \\frac{\\bar{x}_0 - \\bar{x}_1}{s_p \\sqrt{1/n_0 + 1/n_1}}.\n",
        "\\end{equation}\n",
        "\n",
        "(If you need some reminding of the general definition of ***t-statistic***, check out the definition on p. 404 of *AoS*).\n",
        "\n",
        "What assumption about the variances of the two groups are we making here?"
      ]
    },
    {
      "cell_type": "markdown",
      "metadata": {
        "id": "pRpD4NsM_-dH"
      },
      "source": [
        "__A:__\n",
        "- Null is that the charges for those with and without insurance are the same\n",
        "- Alternative is that they're different.\n",
        "\n",
        "- Assumptions\n",
        "  - Variances are equal within both groups"
      ]
    },
    {
      "cell_type": "markdown",
      "metadata": {
        "id": "J_LhRONA_-dH"
      },
      "source": [
        "__Q5:__ Perform this hypothesis test both manually, using the above formulae, and then using the appropriate function from [scipy.stats](https://docs.scipy.org/doc/scipy/reference/stats.html#statistical-tests) (hint, you're looking for a function to perform a _t_-test on two independent samples). For the manual approach, calculate the value of the test statistic and then its probability (the p-value). Verify you get the same results from both."
      ]
    },
    {
      "cell_type": "markdown",
      "metadata": {
        "id": "K4xJRP7H_-dI"
      },
      "source": [
        "__A:__"
      ]
    },
    {
      "cell_type": "code",
      "execution_count": 39,
      "metadata": {
        "colab": {
          "base_uri": "https://localhost:8080/"
        },
        "id": "nQzzNhh__-dI",
        "outputId": "2a55c55a-ffc3-4f58-c5cd-5a20fa20fca5"
      },
      "outputs": [
        {
          "output_type": "execute_result",
          "data": {
            "text/plain": [
              "(41557492.81508629, 197288105.1461134)"
            ]
          },
          "metadata": {},
          "execution_count": 39
        }
      ],
      "source": [
        "# number of samples for each group\n",
        "n0 = len(medical[medical['insuranceclaim'] == 0])\n",
        "n1 = len(medical[medical['insuranceclaim'] == 1])\n",
        "\n",
        "# sample variances for each group\n",
        "s0 = medical[medical['insuranceclaim'] == 0]['charges'].var()\n",
        "s1 = medical[medical['insuranceclaim'] == 1]['charges'].var()\n",
        "\n",
        "s0, s1"
      ]
    },
    {
      "cell_type": "code",
      "source": [
        "# variance of combination\n",
        "s_square = ( ( (n0 - 1) * s0) + ((n1 - 1) * s1)) / (n0 + n1 - 2)\n",
        "\n",
        "# mean of each group\n",
        "x0 = medical[medical['insuranceclaim'] == 0]['charges'].mean()\n",
        "x1 = medical[medical['insuranceclaim'] == 1]['charges'].mean()\n",
        "\n",
        "x0, x1"
      ],
      "metadata": {
        "colab": {
          "base_uri": "https://localhost:8080/"
        },
        "id": "Fkfdf36tRfbs",
        "outputId": "9626017b-b738-4058-df47-f6411e35adee"
      },
      "execution_count": 44,
      "outputs": [
        {
          "output_type": "execute_result",
          "data": {
            "text/plain": [
              "(8821.421892306305, 16423.928276537677)"
            ]
          },
          "metadata": {},
          "execution_count": 44
        }
      ]
    },
    {
      "cell_type": "code",
      "source": [
        "# t-test statistic\n",
        "t_stat = (x0 - x1) / (s_square * (1/n0 + 1/n1)) ** 0.5\n",
        "t_stat"
      ],
      "metadata": {
        "colab": {
          "base_uri": "https://localhost:8080/"
        },
        "id": "WMO5GGSHSTyi",
        "outputId": "34b7e333-38e4-4bdb-9cda-524efc3f70f9"
      },
      "execution_count": 43,
      "outputs": [
        {
          "output_type": "execute_result",
          "data": {
            "text/plain": [
              "-11.893299030876712"
            ]
          },
          "metadata": {},
          "execution_count": 43
        }
      ]
    },
    {
      "cell_type": "code",
      "execution_count": 61,
      "metadata": {
        "colab": {
          "base_uri": "https://localhost:8080/"
        },
        "id": "sWCh_tcF_-dI",
        "outputId": "50e405cc-c52e-4809-9317-fd327a73d2d0"
      },
      "outputs": [
        {
          "output_type": "execute_result",
          "data": {
            "text/plain": [
              "2.2306151158103587e-31"
            ]
          },
          "metadata": {},
          "execution_count": 61
        }
      ],
      "source": [
        "# degrees of freedom\n",
        "df = n0 + n1 - 2\n",
        "\n",
        "t.cdf(t_stat, df)"
      ]
    },
    {
      "cell_type": "markdown",
      "source": [
        "- So we have our t stat of -12 with a p value of 2e-31 so we can clearly reject the null in this case."
      ],
      "metadata": {
        "id": "9kYXaRWMSZ6E"
      }
    },
    {
      "cell_type": "markdown",
      "source": [
        "- Now to calculate the same with the built in scipy function"
      ],
      "metadata": {
        "id": "9IJWg603SiPr"
      }
    },
    {
      "cell_type": "code",
      "source": [
        "from scipy import stats as st"
      ],
      "metadata": {
        "id": "zrA2eIDYTc8r"
      },
      "execution_count": 46,
      "outputs": []
    },
    {
      "cell_type": "code",
      "execution_count": 50,
      "metadata": {
        "colab": {
          "base_uri": "https://localhost:8080/"
        },
        "id": "51Pa4PYh_-dI",
        "outputId": "003807b9-bea3-403c-d8e7-13af0c547a79"
      },
      "outputs": [
        {
          "output_type": "execute_result",
          "data": {
            "text/plain": [
              "Ttest_indResult(statistic=-11.893299030876712, pvalue=4.461230231620717e-31)"
            ]
          },
          "metadata": {},
          "execution_count": 50
        }
      ],
      "source": [
        "st.ttest_ind(medical[medical['insuranceclaim'] == 0]['charges'],\n",
        "            medical[medical['insuranceclaim'] == 1]['charges'],\n",
        "            equal_var=True,\n",
        "            alternative='two-sided')"
      ]
    },
    {
      "cell_type": "markdown",
      "metadata": {
        "id": "ECaekdGh_-dI"
      },
      "source": [
        "Congratulations! Hopefully you got the exact same numerical results. This shows that you correctly calculated the numbers by hand. Secondly, you used the correct function and saw that it's much easier to use. All you need to do is pass your data to it."
      ]
    },
    {
      "cell_type": "markdown",
      "metadata": {
        "id": "qRBkHbDo_-dI"
      },
      "source": [
        "__Q6:__ Conceptual question: look through the documentation for statistical test functions in scipy.stats. You'll see the above _t_-test for a sample, but can you see an equivalent one for performing a *z*-test from a sample? Comment on your answer."
      ]
    },
    {
      "cell_type": "markdown",
      "metadata": {
        "id": "guI0BPbt_-dI"
      },
      "source": [
        "__A:__\n",
        "\n",
        "I don't see one for two independent sample tests."
      ]
    },
    {
      "cell_type": "markdown",
      "metadata": {
        "id": "pOdIQh25_-dI"
      },
      "source": [
        "## Learning outcomes"
      ]
    },
    {
      "cell_type": "markdown",
      "metadata": {
        "id": "n1dedT4c_-dI"
      },
      "source": [
        "Having completed this project notebook, you now have good hands-on experience:\n",
        "* using the central limit theorem to help you apply frequentist techniques to answer questions that pertain to very non-normally distributed data from the real world\n",
        "* performing inference using such data to answer business questions\n",
        "* forming a hypothesis and framing the null and alternative hypotheses\n",
        "* testing this using a _t_-test"
      ]
    }
  ],
  "metadata": {
    "kernelspec": {
      "display_name": "Python 3",
      "language": "python",
      "name": "python3"
    },
    "language_info": {
      "codemirror_mode": {
        "name": "ipython",
        "version": 3
      },
      "file_extension": ".py",
      "mimetype": "text/x-python",
      "name": "python",
      "nbconvert_exporter": "python",
      "pygments_lexer": "ipython3",
      "version": "3.7.3"
    },
    "colab": {
      "provenance": []
    }
  },
  "nbformat": 4,
  "nbformat_minor": 0
}